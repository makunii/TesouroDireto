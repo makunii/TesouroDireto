{
 "cells": [
  {
   "cell_type": "markdown",
   "metadata": {},
   "source": [
    "<h2><u> Transformando os dados</h2></u>"
   ]
  },
  {
   "cell_type": "code",
   "execution_count": 1,
   "metadata": {
    "collapsed": true
   },
   "outputs": [],
   "source": [
    "import pandas as pd"
   ]
  },
  {
   "cell_type": "code",
   "execution_count": 2,
   "metadata": {
    "collapsed": true
   },
   "outputs": [],
   "source": [
    "# Importar os dados de um arquivo csv\n",
    "df = pd.read_csv(\"c://users//marco//Tesouro_direto1.csv\", sep=\";\")"
   ]
  },
  {
   "cell_type": "code",
   "execution_count": 3,
   "metadata": {},
   "outputs": [
    {
     "data": {
      "text/html": [
       "<div>\n",
       "<style>\n",
       "    .dataframe thead tr:only-child th {\n",
       "        text-align: right;\n",
       "    }\n",
       "\n",
       "    .dataframe thead th {\n",
       "        text-align: left;\n",
       "    }\n",
       "\n",
       "    .dataframe tbody tr th {\n",
       "        vertical-align: top;\n",
       "    }\n",
       "</style>\n",
       "<table border=\"1\" class=\"dataframe\">\n",
       "  <thead>\n",
       "    <tr style=\"text-align: right;\">\n",
       "      <th></th>\n",
       "      <th>Tipo Titulo</th>\n",
       "      <th>Vencimento do Titulo</th>\n",
       "      <th>Data Venda</th>\n",
       "      <th>PU</th>\n",
       "      <th>Quantidade</th>\n",
       "      <th>Valor</th>\n",
       "    </tr>\n",
       "  </thead>\n",
       "  <tbody>\n",
       "    <tr>\n",
       "      <th>0</th>\n",
       "      <td>Tesouro IPCA+ com Juros Semestrais</td>\n",
       "      <td>15/08/2010</td>\n",
       "      <td>03/02/2009</td>\n",
       "      <td>1826,714087</td>\n",
       "      <td>137</td>\n",
       "      <td>250259,82</td>\n",
       "    </tr>\n",
       "    <tr>\n",
       "      <th>1</th>\n",
       "      <td>Tesouro IPCA+</td>\n",
       "      <td>15/08/2024</td>\n",
       "      <td>03/02/2009</td>\n",
       "      <td>637,46928</td>\n",
       "      <td>139</td>\n",
       "      <td>88608,22</td>\n",
       "    </tr>\n",
       "    <tr>\n",
       "      <th>2</th>\n",
       "      <td>Tesouro IPCA+ com Juros Semestrais</td>\n",
       "      <td>15/05/2011</td>\n",
       "      <td>03/02/2009</td>\n",
       "      <td>1782,526531</td>\n",
       "      <td>349,4</td>\n",
       "      <td>622814,76</td>\n",
       "    </tr>\n",
       "    <tr>\n",
       "      <th>3</th>\n",
       "      <td>Tesouro IPCA+ com Juros Semestrais</td>\n",
       "      <td>15/05/2035</td>\n",
       "      <td>03/02/2009</td>\n",
       "      <td>1643,516141</td>\n",
       "      <td>25,4</td>\n",
       "      <td>41745,3</td>\n",
       "    </tr>\n",
       "    <tr>\n",
       "      <th>4</th>\n",
       "      <td>Tesouro IPCA+ com Juros Semestrais</td>\n",
       "      <td>15/05/2015</td>\n",
       "      <td>03/02/2009</td>\n",
       "      <td>1690,860123</td>\n",
       "      <td>291,4</td>\n",
       "      <td>492716,63</td>\n",
       "    </tr>\n",
       "  </tbody>\n",
       "</table>\n",
       "</div>"
      ],
      "text/plain": [
       "                          Tipo Titulo Vencimento do Titulo  Data Venda  \\\n",
       "0  Tesouro IPCA+ com Juros Semestrais           15/08/2010  03/02/2009   \n",
       "1                       Tesouro IPCA+           15/08/2024  03/02/2009   \n",
       "2  Tesouro IPCA+ com Juros Semestrais           15/05/2011  03/02/2009   \n",
       "3  Tesouro IPCA+ com Juros Semestrais           15/05/2035  03/02/2009   \n",
       "4  Tesouro IPCA+ com Juros Semestrais           15/05/2015  03/02/2009   \n",
       "\n",
       "            PU Quantidade      Valor  \n",
       "0  1826,714087        137  250259,82  \n",
       "1    637,46928        139   88608,22  \n",
       "2  1782,526531      349,4  622814,76  \n",
       "3  1643,516141       25,4    41745,3  \n",
       "4  1690,860123      291,4  492716,63  "
      ]
     },
     "execution_count": 3,
     "metadata": {},
     "output_type": "execute_result"
    }
   ],
   "source": [
    "# Mostra as 3 primeiras linhas do dataframe\n",
    "df.head()"
   ]
  },
  {
   "cell_type": "code",
   "execution_count": 4,
   "metadata": {
    "collapsed": true
   },
   "outputs": [],
   "source": [
    "# Alterar o display de precisão para mostrar apenas duas casas após o ponto decimal\n",
    "pd.set_option(\"display.precision\", 2)"
   ]
  },
  {
   "cell_type": "code",
   "execution_count": 5,
   "metadata": {
    "collapsed": true
   },
   "outputs": [],
   "source": [
    "# Renomeando as colunas para lowercase e sem espaço\n",
    "df.rename(columns={'Tipo Titulo': 'tipo_titulo', 'Vencimento do Titulo': 'vencimento_do_titulo', 'Data Venda' : 'data_venda', 'PU' : 'pu', 'Quantidade' : 'quantidade', 'Valor' : 'valor'}, inplace=True)"
   ]
  },
  {
   "cell_type": "code",
   "execution_count": 6,
   "metadata": {
    "collapsed": true
   },
   "outputs": [],
   "source": [
    "# Alterar os valores do coluna para datetime\n",
    "df[\"vencimento_do_titulo\"] = pd.to_datetime(df[\"vencimento_do_titulo\"], format=\"%d/%m/%Y\")"
   ]
  },
  {
   "cell_type": "code",
   "execution_count": 7,
   "metadata": {
    "collapsed": true
   },
   "outputs": [],
   "source": [
    "# Alterar os valores do coluna para datetime\n",
    "df[\"data_venda\"] = pd.to_datetime(df[\"data_venda\"], format=\"%d/%m/%Y\")"
   ]
  },
  {
   "cell_type": "code",
   "execution_count": 8,
   "metadata": {
    "collapsed": true
   },
   "outputs": [],
   "source": [
    "# Alterar o separador de unidade de virgula para ponto\n",
    "df.quantidade = df.quantidade.str.replace(\",\", \".\")"
   ]
  },
  {
   "cell_type": "code",
   "execution_count": 9,
   "metadata": {
    "collapsed": true
   },
   "outputs": [],
   "source": [
    "# Alterar o separador de unidade de virgula para ponto\n",
    "df.valor = df.valor.str.replace(\",\", \".\")"
   ]
  },
  {
   "cell_type": "code",
   "execution_count": 10,
   "metadata": {
    "collapsed": true
   },
   "outputs": [],
   "source": [
    "# Alterar o separador de unidade de virgula para ponto\n",
    "df.pu = df.pu.str.replace(\",\", \".\")"
   ]
  },
  {
   "cell_type": "code",
   "execution_count": 11,
   "metadata": {
    "collapsed": true
   },
   "outputs": [],
   "source": [
    "# Alterar o formato da coluna para float\n",
    "df.quantidade = df.quantidade.astype(float)"
   ]
  },
  {
   "cell_type": "code",
   "execution_count": 12,
   "metadata": {
    "collapsed": true
   },
   "outputs": [],
   "source": [
    "# Alterar o formato da coluna para float\n",
    "df.valor = df.valor.astype(float)"
   ]
  },
  {
   "cell_type": "code",
   "execution_count": 13,
   "metadata": {
    "collapsed": true
   },
   "outputs": [],
   "source": [
    "# Alterar o formato da coluna para float\n",
    "df.pu = df.pu.astype(float)"
   ]
  },
  {
   "cell_type": "code",
   "execution_count": 14,
   "metadata": {},
   "outputs": [
    {
     "data": {
      "text/html": [
       "<div>\n",
       "<style>\n",
       "    .dataframe thead tr:only-child th {\n",
       "        text-align: right;\n",
       "    }\n",
       "\n",
       "    .dataframe thead th {\n",
       "        text-align: left;\n",
       "    }\n",
       "\n",
       "    .dataframe tbody tr th {\n",
       "        vertical-align: top;\n",
       "    }\n",
       "</style>\n",
       "<table border=\"1\" class=\"dataframe\">\n",
       "  <thead>\n",
       "    <tr style=\"text-align: right;\">\n",
       "      <th></th>\n",
       "      <th>tipo_titulo</th>\n",
       "      <th>vencimento_do_titulo</th>\n",
       "      <th>data_venda</th>\n",
       "      <th>pu</th>\n",
       "      <th>quantidade</th>\n",
       "      <th>valor</th>\n",
       "    </tr>\n",
       "  </thead>\n",
       "  <tbody>\n",
       "    <tr>\n",
       "      <th>0</th>\n",
       "      <td>Tesouro IPCA+ com Juros Semestrais</td>\n",
       "      <td>2010-08-15</td>\n",
       "      <td>2009-02-03</td>\n",
       "      <td>1826.71</td>\n",
       "      <td>137.0</td>\n",
       "      <td>250259.82</td>\n",
       "    </tr>\n",
       "    <tr>\n",
       "      <th>1</th>\n",
       "      <td>Tesouro IPCA+</td>\n",
       "      <td>2024-08-15</td>\n",
       "      <td>2009-02-03</td>\n",
       "      <td>637.47</td>\n",
       "      <td>139.0</td>\n",
       "      <td>88608.22</td>\n",
       "    </tr>\n",
       "    <tr>\n",
       "      <th>2</th>\n",
       "      <td>Tesouro IPCA+ com Juros Semestrais</td>\n",
       "      <td>2011-05-15</td>\n",
       "      <td>2009-02-03</td>\n",
       "      <td>1782.53</td>\n",
       "      <td>349.4</td>\n",
       "      <td>622814.76</td>\n",
       "    </tr>\n",
       "    <tr>\n",
       "      <th>3</th>\n",
       "      <td>Tesouro IPCA+ com Juros Semestrais</td>\n",
       "      <td>2035-05-15</td>\n",
       "      <td>2009-02-03</td>\n",
       "      <td>1643.52</td>\n",
       "      <td>25.4</td>\n",
       "      <td>41745.30</td>\n",
       "    </tr>\n",
       "    <tr>\n",
       "      <th>4</th>\n",
       "      <td>Tesouro IPCA+ com Juros Semestrais</td>\n",
       "      <td>2015-05-15</td>\n",
       "      <td>2009-02-03</td>\n",
       "      <td>1690.86</td>\n",
       "      <td>291.4</td>\n",
       "      <td>492716.63</td>\n",
       "    </tr>\n",
       "  </tbody>\n",
       "</table>\n",
       "</div>"
      ],
      "text/plain": [
       "                          tipo_titulo vencimento_do_titulo data_venda  \\\n",
       "0  Tesouro IPCA+ com Juros Semestrais           2010-08-15 2009-02-03   \n",
       "1                       Tesouro IPCA+           2024-08-15 2009-02-03   \n",
       "2  Tesouro IPCA+ com Juros Semestrais           2011-05-15 2009-02-03   \n",
       "3  Tesouro IPCA+ com Juros Semestrais           2035-05-15 2009-02-03   \n",
       "4  Tesouro IPCA+ com Juros Semestrais           2015-05-15 2009-02-03   \n",
       "\n",
       "        pu  quantidade      valor  \n",
       "0  1826.71       137.0  250259.82  \n",
       "1   637.47       139.0   88608.22  \n",
       "2  1782.53       349.4  622814.76  \n",
       "3  1643.52        25.4   41745.30  \n",
       "4  1690.86       291.4  492716.63  "
      ]
     },
     "execution_count": 14,
     "metadata": {},
     "output_type": "execute_result"
    }
   ],
   "source": [
    "# Mostrar somente as 5 primeiras linhas do dataframe após todas as transformação dos dados\n",
    "df.head()"
   ]
  },
  {
   "cell_type": "markdown",
   "metadata": {},
   "source": [
    "<h2><u> Analisando os dados </h2></u>"
   ]
  },
  {
   "cell_type": "code",
   "execution_count": 15,
   "metadata": {},
   "outputs": [
    {
     "data": {
      "text/plain": [
       "tipo_titulo                     object\n",
       "vencimento_do_titulo    datetime64[ns]\n",
       "data_venda              datetime64[ns]\n",
       "pu                             float64\n",
       "quantidade                     float64\n",
       "valor                          float64\n",
       "dtype: object"
      ]
     },
     "execution_count": 15,
     "metadata": {},
     "output_type": "execute_result"
    }
   ],
   "source": [
    "# Mostra o formato dos valores das colunas do dataframe\n",
    "df.dtypes"
   ]
  },
  {
   "cell_type": "code",
   "execution_count": 16,
   "metadata": {},
   "outputs": [
    {
     "data": {
      "text/plain": [
       "(56009, 6)"
      ]
     },
     "execution_count": 16,
     "metadata": {},
     "output_type": "execute_result"
    }
   ],
   "source": [
    "# Visualizar a quantidade de rows (56009) e columns (6)\n",
    "df.shape"
   ]
  },
  {
   "cell_type": "code",
   "execution_count": 17,
   "metadata": {},
   "outputs": [
    {
     "data": {
      "text/plain": [
       "Index(['tipo_titulo', 'vencimento_do_titulo', 'data_venda', 'pu', 'quantidade',\n",
       "       'valor'],\n",
       "      dtype='object')"
      ]
     },
     "execution_count": 17,
     "metadata": {},
     "output_type": "execute_result"
    }
   ],
   "source": [
    "# Visualizar as colunas que estão contidas no dataframe\n",
    "df.columns"
   ]
  },
  {
   "cell_type": "code",
   "execution_count": 18,
   "metadata": {},
   "outputs": [
    {
     "data": {
      "text/plain": [
       "array(['Tesouro IPCA+ com Juros Semestrais', 'Tesouro IPCA+',\n",
       "       'Tesouro Prefixado com Juros Semestrais', 'Tesouro Selic',\n",
       "       'Tesouro Prefixado', 'Tesouro IGPM+ com Juros Semestrais'], dtype=object)"
      ]
     },
     "execution_count": 18,
     "metadata": {},
     "output_type": "execute_result"
    }
   ],
   "source": [
    "# Mostra os valores únicos da coluna tipo_titulo do dataframe\n",
    "df.tipo_titulo.unique()"
   ]
  },
  {
   "cell_type": "code",
   "execution_count": 19,
   "metadata": {},
   "outputs": [
    {
     "data": {
      "text/plain": [
       "Tesouro IPCA+ com Juros Semestrais        16865\n",
       "Tesouro Prefixado                         12861\n",
       "Tesouro IPCA+                              7654\n",
       "Tesouro Prefixado com Juros Semestrais     7336\n",
       "Tesouro Selic                              6813\n",
       "Tesouro IGPM+ com Juros Semestrais         4480\n",
       "Name: tipo_titulo, dtype: int64"
      ]
     },
     "execution_count": 19,
     "metadata": {},
     "output_type": "execute_result"
    }
   ],
   "source": [
    "# Mostra a quantidade de cada título contidos na coluna tipo_titulo do ano 2002 a 2017\n",
    "df.tipo_titulo.value_counts()"
   ]
  },
  {
   "cell_type": "code",
   "execution_count": 20,
   "metadata": {},
   "outputs": [
    {
     "data": {
      "text/plain": [
       "Timestamp('2002-01-04 00:00:00')"
      ]
     },
     "execution_count": 20,
     "metadata": {},
     "output_type": "execute_result"
    }
   ],
   "source": [
    "# Mostra a menor data de venda dos titulos contidos no dataframe\n",
    "df.data_venda.min()"
   ]
  },
  {
   "cell_type": "code",
   "execution_count": 21,
   "metadata": {},
   "outputs": [
    {
     "data": {
      "text/plain": [
       "Timestamp('2017-07-03 00:00:00')"
      ]
     },
     "execution_count": 21,
     "metadata": {},
     "output_type": "execute_result"
    }
   ],
   "source": [
    "# Mostra a maior data de venda dos titulos contidos no dataframe\n",
    "df.data_venda.max()"
   ]
  },
  {
   "cell_type": "code",
   "execution_count": 22,
   "metadata": {},
   "outputs": [
    {
     "data": {
      "text/html": [
       "<div>\n",
       "<style>\n",
       "    .dataframe thead tr:only-child th {\n",
       "        text-align: right;\n",
       "    }\n",
       "\n",
       "    .dataframe thead th {\n",
       "        text-align: left;\n",
       "    }\n",
       "\n",
       "    .dataframe tbody tr th {\n",
       "        vertical-align: top;\n",
       "    }\n",
       "</style>\n",
       "<table border=\"1\" class=\"dataframe\">\n",
       "  <thead>\n",
       "    <tr style=\"text-align: right;\">\n",
       "      <th></th>\n",
       "      <th>tipo_titulo</th>\n",
       "      <th>vencimento_do_titulo</th>\n",
       "      <th>data_venda</th>\n",
       "      <th>pu</th>\n",
       "      <th>quantidade</th>\n",
       "      <th>valor</th>\n",
       "    </tr>\n",
       "  </thead>\n",
       "  <tbody>\n",
       "    <tr>\n",
       "      <th>0</th>\n",
       "      <td>Tesouro IPCA+ com Juros Semestrais</td>\n",
       "      <td>2010-08-15</td>\n",
       "      <td>2009-02-03</td>\n",
       "      <td>1826.71</td>\n",
       "      <td>137.0</td>\n",
       "      <td>250259.82</td>\n",
       "    </tr>\n",
       "    <tr>\n",
       "      <th>1</th>\n",
       "      <td>Tesouro IPCA+</td>\n",
       "      <td>2024-08-15</td>\n",
       "      <td>2009-02-03</td>\n",
       "      <td>637.47</td>\n",
       "      <td>139.0</td>\n",
       "      <td>88608.22</td>\n",
       "    </tr>\n",
       "    <tr>\n",
       "      <th>2</th>\n",
       "      <td>Tesouro IPCA+ com Juros Semestrais</td>\n",
       "      <td>2011-05-15</td>\n",
       "      <td>2009-02-03</td>\n",
       "      <td>1782.53</td>\n",
       "      <td>349.4</td>\n",
       "      <td>622814.76</td>\n",
       "    </tr>\n",
       "  </tbody>\n",
       "</table>\n",
       "</div>"
      ],
      "text/plain": [
       "                          tipo_titulo vencimento_do_titulo data_venda  \\\n",
       "0  Tesouro IPCA+ com Juros Semestrais           2010-08-15 2009-02-03   \n",
       "1                       Tesouro IPCA+           2024-08-15 2009-02-03   \n",
       "2  Tesouro IPCA+ com Juros Semestrais           2011-05-15 2009-02-03   \n",
       "\n",
       "        pu  quantidade      valor  \n",
       "0  1826.71       137.0  250259.82  \n",
       "1   637.47       139.0   88608.22  \n",
       "2  1782.53       349.4  622814.76  "
      ]
     },
     "execution_count": 22,
     "metadata": {},
     "output_type": "execute_result"
    }
   ],
   "source": [
    "# Mostra as 3 primeiras linhas do dataframe\n",
    "df.head(3)"
   ]
  },
  {
   "cell_type": "code",
   "execution_count": 23,
   "metadata": {},
   "outputs": [
    {
     "data": {
      "text/plain": [
       "'49023783.66'"
      ]
     },
     "execution_count": 23,
     "metadata": {},
     "output_type": "execute_result"
    }
   ],
   "source": [
    "# Resultado mostra a quantidade de titulos vendidos de 04/01/2002 a 03/07/2017 (49.023.783,66 títulos)\n",
    "titulos_vendidos = \"%.2f\" % df.quantidade.sum()\n",
    "titulos_vendidos"
   ]
  },
  {
   "cell_type": "code",
   "execution_count": 25,
   "metadata": {},
   "outputs": [
    {
     "data": {
      "text/plain": [
       "'69423018560.19'"
      ]
     },
     "execution_count": 25,
     "metadata": {},
     "output_type": "execute_result"
    }
   ],
   "source": [
    "# Resultado mostra o valor arrecado com a venda de todos os titulos de 04/01/2002 a 03/07/2017 (R$ 69.423.018.560,19)\n",
    "valor_arrecadado = \"%.2f\" % df.valor.sum()\n",
    "valor_arrecadado"
   ]
  },
  {
   "cell_type": "markdown",
   "metadata": {},
   "source": [
    "Visualização dos dados"
   ]
  },
  {
   "cell_type": "code",
   "execution_count": 26,
   "metadata": {},
   "outputs": [
    {
     "data": {
      "text/plain": [
       "16865"
      ]
     },
     "execution_count": 26,
     "metadata": {},
     "output_type": "execute_result"
    }
   ],
   "source": [
    "# Criado variavel para enumerar a quantidade do titulo em questão foram adquiridos\n",
    "tes_ipca_juros = df[df[\"tipo_titulo\"] == \"Tesouro IPCA+ com Juros Semestrais\"]\n",
    "tes_ipca_juros_v = len(tes_ipca_juros.tipo_titulo)\n",
    "tes_ipca_juros_v"
   ]
  },
  {
   "cell_type": "code",
   "execution_count": 27,
   "metadata": {},
   "outputs": [
    {
     "data": {
      "text/plain": [
       "12861"
      ]
     },
     "execution_count": 27,
     "metadata": {},
     "output_type": "execute_result"
    }
   ],
   "source": [
    "# Criado variavel para enumerar a quantidade do titulo em questão foram adquiridos\n",
    "tes_prefixado = df[df[\"tipo_titulo\"] == \"Tesouro Prefixado\"]\n",
    "tes_prefixado_v = len(tes_prefixado.tipo_titulo)\n",
    "tes_prefixado_v"
   ]
  },
  {
   "cell_type": "code",
   "execution_count": 28,
   "metadata": {},
   "outputs": [
    {
     "data": {
      "text/plain": [
       "7654"
      ]
     },
     "execution_count": 28,
     "metadata": {},
     "output_type": "execute_result"
    }
   ],
   "source": [
    "# Criado variavel para enumerar a quantidade do titulo em questão foram adquiridos\n",
    "tes_ipca = df[df[\"tipo_titulo\"] == \"Tesouro IPCA+\"]\n",
    "tes_ipca_v = len(tes_ipca.tipo_titulo)\n",
    "tes_ipca_v"
   ]
  },
  {
   "cell_type": "code",
   "execution_count": 29,
   "metadata": {},
   "outputs": [
    {
     "data": {
      "text/plain": [
       "7336"
      ]
     },
     "execution_count": 29,
     "metadata": {},
     "output_type": "execute_result"
    }
   ],
   "source": [
    "# Criado variavel para enumerar a quantidade do titulo em questão foram adquiridos\n",
    "tes_prefixado_juros = df[df[\"tipo_titulo\"] == \"Tesouro Prefixado com Juros Semestrais\"]\n",
    "tes_prefixado_juros_v = len(tes_prefixado_juros.tipo_titulo)\n",
    "tes_prefixado_juros_v"
   ]
  },
  {
   "cell_type": "code",
   "execution_count": 30,
   "metadata": {},
   "outputs": [
    {
     "data": {
      "text/plain": [
       "6813"
      ]
     },
     "execution_count": 30,
     "metadata": {},
     "output_type": "execute_result"
    }
   ],
   "source": [
    "# Criado variavel para enumerar a quantidade do titulo em questão foram adquiridos\n",
    "tes_selic = df[df[\"tipo_titulo\"] == \"Tesouro Selic\"]\n",
    "tes_selic_v = len(tes_selic.tipo_titulo)\n",
    "tes_selic_v"
   ]
  },
  {
   "cell_type": "code",
   "execution_count": 31,
   "metadata": {},
   "outputs": [
    {
     "data": {
      "text/plain": [
       "4480"
      ]
     },
     "execution_count": 31,
     "metadata": {},
     "output_type": "execute_result"
    }
   ],
   "source": [
    "# Criado variavel para enumerar a quantidade do titulo em questão foram adquiridos\n",
    "tes_igpm_juros = df[df[\"tipo_titulo\"] == \"Tesouro IGPM+ com Juros Semestrais\"]\n",
    "tes_igpm_juros_v = len(tes_igpm_juros.tipo_titulo)\n",
    "tes_igpm_juros_v"
   ]
  },
  {
   "cell_type": "code",
   "execution_count": 32,
   "metadata": {},
   "outputs": [
    {
     "data": {
      "text/plain": [
       "[16865, 12861, 7654, 7336, 6813, 4480]"
      ]
     },
     "execution_count": 32,
     "metadata": {},
     "output_type": "execute_result"
    }
   ],
   "source": [
    "# Criado lista com os valores da quantidade de titulos comprados\n",
    "titulos_tipos = [tes_ipca_juros_v, tes_prefixado_v, tes_ipca_v,tes_prefixado_juros_v, tes_selic_v, tes_igpm_juros_v]\n",
    "titulos_tipos"
   ]
  },
  {
   "cell_type": "code",
   "execution_count": 33,
   "metadata": {},
   "outputs": [
    {
     "data": {
      "text/plain": [
       "['Tesouro IPCA+ com Juros Semestrais',\n",
       " 'Tesouro Prefixado',\n",
       " 'Tesouro IPCA+',\n",
       " 'Tesouro Prefixado com Juros Semestrais',\n",
       " 'Tesouro Selic',\n",
       " 'Tesouro IGPM+ com Juros Semestrais']"
      ]
     },
     "execution_count": 33,
     "metadata": {},
     "output_type": "execute_result"
    }
   ],
   "source": [
    "# Criado uma lista com os nomes dos tipos de titulos vendidos\n",
    "titulos_nomes = [\"Tesouro IPCA+ com Juros Semestrais\",\"Tesouro Prefixado\",\"Tesouro IPCA+\",\"Tesouro Prefixado com Juros Semestrais\",\"Tesouro Selic\",\"Tesouro IGPM+ com Juros Semestrais\"]\n",
    "titulos_nomes"
   ]
  },
  {
   "cell_type": "code",
   "execution_count": 34,
   "metadata": {
    "collapsed": true
   },
   "outputs": [],
   "source": [
    "import matplotlib.pyplot as plt\n",
    "%matplotlib inline"
   ]
  },
  {
   "cell_type": "code",
   "execution_count": 43,
   "metadata": {},
   "outputs": [
    {
     "data": {
      "text/plain": [
       "<matplotlib.text.Text at 0x1a8fda748d0>"
      ]
     },
     "execution_count": 43,
     "metadata": {},
     "output_type": "execute_result"
    },
    {
     "data": {
      "image/png": "[encoded data removed]",
      "text/plain": [
       "<matplotlib.figure.Figure at 0x1a8fc6ac588>"
      ]
     },
     "metadata": {},
     "output_type": "display_data"
    }
   ],
   "source": [
    "# Criado gráfico de barras para visualizar a quantidade de cada titulos vendidos\n",
    "df1 = pd.DataFrame(titulos_tipos,titulos_nomes)\n",
    "df1.plot(kind='bar',stacked=True, figsize=(15,8))\n",
    "plt.xlabel(\"Tipos de titulos\",size=15)\n",
    "plt.ylabel(\"Quantidade de titulos vendidos\",size=15)\n",
    "plt.title(\"Gráfico de vendas\\n dos titulos do tesouro direto nos últimos 15 anos\",size=25, color=\"b\")"
   ]
  }
 ],
 "metadata": {
  "kernelspec": {
   "display_name": "Python 3",
   "language": "python",
   "name": "python3"
  },
  "language_info": {
   "codemirror_mode": {
    "name": "ipython",
    "version": 3
   },
   "file_extension": ".py",
   "mimetype": "text/x-python",
   "name": "python",
   "nbconvert_exporter": "python",
   "pygments_lexer": "ipython3",
   "version": "3.6.1"
  }
 },
 "nbformat": 4,
 "nbformat_minor": 2
}
